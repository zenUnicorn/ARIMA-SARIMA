{
 "cells": [
  {
   "cell_type": "code",
   "execution_count": 2,
   "metadata": {},
   "outputs": [],
   "source": [
    "# import all packages that might be useful\n",
    "import sys # to manipulate different part of python runtime environment\n",
    "import numpy as np\n",
    "import pandas as pd\n",
    "import warnings\n",
    "warnings.filterwarnings('ignore')\n",
    "import matplotlib.pyplot as plt\n",
    "import seaborn as sns\n",
    "from sklearn import metrics\n",
    "from sklearn.metrics import mean_squared_error,mean_absolute_error\n",
    "import statsmodels.api as sm\n",
    "from statsmodels.tsa.stattools import adfuller\n",
    "from statsmodels.tsa.arima_model import ARIMA\n",
    "from pmdarima import auto_arima\n"
   ]
  },
  {
   "cell_type": "code",
   "execution_count": 3,
   "metadata": {},
   "outputs": [],
   "source": [
    "df = pd.read_csv(r'ncdc_covid_data.csv')"
   ]
  },
  {
   "cell_type": "code",
   "execution_count": 4,
   "metadata": {},
   "outputs": [
    {
     "data": {
      "text/html": [
       "<div>\n",
       "<style scoped>\n",
       "    .dataframe tbody tr th:only-of-type {\n",
       "        vertical-align: middle;\n",
       "    }\n",
       "\n",
       "    .dataframe tbody tr th {\n",
       "        vertical-align: top;\n",
       "    }\n",
       "\n",
       "    .dataframe thead th {\n",
       "        text-align: right;\n",
       "    }\n",
       "</style>\n",
       "<table border=\"1\" class=\"dataframe\">\n",
       "  <thead>\n",
       "    <tr style=\"text-align: right;\">\n",
       "      <th></th>\n",
       "      <th>Date</th>\n",
       "      <th>Confrimed cases</th>\n",
       "      <th>New cases</th>\n",
       "      <th>Total deaths</th>\n",
       "      <th>New deaths</th>\n",
       "      <th>Total recovery</th>\n",
       "      <th>Active cases</th>\n",
       "    </tr>\n",
       "  </thead>\n",
       "  <tbody>\n",
       "    <tr>\n",
       "      <th>0</th>\n",
       "      <td>9/8/2021</td>\n",
       "      <td>197046</td>\n",
       "      <td>559</td>\n",
       "      <td>2578</td>\n",
       "      <td>5</td>\n",
       "      <td>185379</td>\n",
       "      <td>9089</td>\n",
       "    </tr>\n",
       "    <tr>\n",
       "      <th>1</th>\n",
       "      <td>9/7/2021</td>\n",
       "      <td>196487</td>\n",
       "      <td>597</td>\n",
       "      <td>2573</td>\n",
       "      <td>17</td>\n",
       "      <td>185159</td>\n",
       "      <td>8755</td>\n",
       "    </tr>\n",
       "    <tr>\n",
       "      <th>2</th>\n",
       "      <td>9/6/2021</td>\n",
       "      <td>195890</td>\n",
       "      <td>379</td>\n",
       "      <td>2556</td>\n",
       "      <td>4</td>\n",
       "      <td>184882</td>\n",
       "      <td>8452</td>\n",
       "    </tr>\n",
       "    <tr>\n",
       "      <th>3</th>\n",
       "      <td>9/5/2021</td>\n",
       "      <td>195511</td>\n",
       "      <td>459</td>\n",
       "      <td>2552</td>\n",
       "      <td>30</td>\n",
       "      <td>184530</td>\n",
       "      <td>8429</td>\n",
       "    </tr>\n",
       "    <tr>\n",
       "      <th>4</th>\n",
       "      <td>9/4/2021</td>\n",
       "      <td>195052</td>\n",
       "      <td>964</td>\n",
       "      <td>2522</td>\n",
       "      <td>27</td>\n",
       "      <td>182463</td>\n",
       "      <td>10067</td>\n",
       "    </tr>\n",
       "    <tr>\n",
       "      <th>5</th>\n",
       "      <td>9/3/2021</td>\n",
       "      <td>194088</td>\n",
       "      <td>444</td>\n",
       "      <td>2495</td>\n",
       "      <td>7</td>\n",
       "      <td>179679</td>\n",
       "      <td>11914</td>\n",
       "    </tr>\n",
       "    <tr>\n",
       "      <th>6</th>\n",
       "      <td>9/2/2021</td>\n",
       "      <td>193644</td>\n",
       "      <td>631</td>\n",
       "      <td>2488</td>\n",
       "      <td>8</td>\n",
       "      <td>179294</td>\n",
       "      <td>11862</td>\n",
       "    </tr>\n",
       "    <tr>\n",
       "      <th>7</th>\n",
       "      <td>9/1/2021</td>\n",
       "      <td>193013</td>\n",
       "      <td>582</td>\n",
       "      <td>2480</td>\n",
       "      <td>11</td>\n",
       "      <td>179000</td>\n",
       "      <td>11533</td>\n",
       "    </tr>\n",
       "    <tr>\n",
       "      <th>8</th>\n",
       "      <td>8/31/2021</td>\n",
       "      <td>192431</td>\n",
       "      <td>626</td>\n",
       "      <td>2469</td>\n",
       "      <td>14</td>\n",
       "      <td>178759</td>\n",
       "      <td>11203</td>\n",
       "    </tr>\n",
       "    <tr>\n",
       "      <th>9</th>\n",
       "      <td>8/30/2021</td>\n",
       "      <td>191805</td>\n",
       "      <td>460</td>\n",
       "      <td>2455</td>\n",
       "      <td>1</td>\n",
       "      <td>178492</td>\n",
       "      <td>10858</td>\n",
       "    </tr>\n",
       "    <tr>\n",
       "      <th>10</th>\n",
       "      <td>8/29/2021</td>\n",
       "      <td>191345</td>\n",
       "      <td>362</td>\n",
       "      <td>2454</td>\n",
       "      <td>93</td>\n",
       "      <td>178283</td>\n",
       "      <td>10608</td>\n",
       "    </tr>\n",
       "    <tr>\n",
       "      <th>11</th>\n",
       "      <td>8/28/2021</td>\n",
       "      <td>190983</td>\n",
       "      <td>650</td>\n",
       "      <td>2361</td>\n",
       "      <td>53</td>\n",
       "      <td>178047</td>\n",
       "      <td>10575</td>\n",
       "    </tr>\n",
       "    <tr>\n",
       "      <th>12</th>\n",
       "      <td>8/27/2021</td>\n",
       "      <td>190333</td>\n",
       "      <td>618</td>\n",
       "      <td>2308</td>\n",
       "      <td>10</td>\n",
       "      <td>169815</td>\n",
       "      <td>18210</td>\n",
       "    </tr>\n",
       "    <tr>\n",
       "      <th>13</th>\n",
       "      <td>8/26/2021</td>\n",
       "      <td>189715</td>\n",
       "      <td>835</td>\n",
       "      <td>2298</td>\n",
       "      <td>10</td>\n",
       "      <td>169626</td>\n",
       "      <td>17791</td>\n",
       "    </tr>\n",
       "    <tr>\n",
       "      <th>14</th>\n",
       "      <td>8/25/2021</td>\n",
       "      <td>188880</td>\n",
       "      <td>637</td>\n",
       "      <td>2288</td>\n",
       "      <td>7</td>\n",
       "      <td>169382</td>\n",
       "      <td>17210</td>\n",
       "    </tr>\n",
       "    <tr>\n",
       "      <th>15</th>\n",
       "      <td>8/24/2021</td>\n",
       "      <td>188243</td>\n",
       "      <td>655</td>\n",
       "      <td>2281</td>\n",
       "      <td>5</td>\n",
       "      <td>169035</td>\n",
       "      <td>16927</td>\n",
       "    </tr>\n",
       "    <tr>\n",
       "      <th>16</th>\n",
       "      <td>8/23/2021</td>\n",
       "      <td>187588</td>\n",
       "      <td>565</td>\n",
       "      <td>2276</td>\n",
       "      <td>8</td>\n",
       "      <td>168818</td>\n",
       "      <td>16494</td>\n",
       "    </tr>\n",
       "    <tr>\n",
       "      <th>17</th>\n",
       "      <td>8/22/2021</td>\n",
       "      <td>187023</td>\n",
       "      <td>388</td>\n",
       "      <td>2268</td>\n",
       "      <td>8</td>\n",
       "      <td>168455</td>\n",
       "      <td>16300</td>\n",
       "    </tr>\n",
       "    <tr>\n",
       "      <th>18</th>\n",
       "      <td>8/21/2021</td>\n",
       "      <td>186635</td>\n",
       "      <td>1064</td>\n",
       "      <td>2260</td>\n",
       "      <td>13</td>\n",
       "      <td>168320</td>\n",
       "      <td>16055</td>\n",
       "    </tr>\n",
       "  </tbody>\n",
       "</table>\n",
       "</div>"
      ],
      "text/plain": [
       "         Date  Confrimed cases  New cases  Total deaths  New deaths  \\\n",
       "0    9/8/2021           197046        559          2578           5   \n",
       "1    9/7/2021           196487        597          2573          17   \n",
       "2    9/6/2021           195890        379          2556           4   \n",
       "3    9/5/2021           195511        459          2552          30   \n",
       "4    9/4/2021           195052        964          2522          27   \n",
       "5    9/3/2021           194088        444          2495           7   \n",
       "6    9/2/2021           193644        631          2488           8   \n",
       "7    9/1/2021           193013        582          2480          11   \n",
       "8   8/31/2021           192431        626          2469          14   \n",
       "9   8/30/2021           191805        460          2455           1   \n",
       "10  8/29/2021           191345        362          2454          93   \n",
       "11  8/28/2021           190983        650          2361          53   \n",
       "12  8/27/2021           190333        618          2308          10   \n",
       "13  8/26/2021           189715        835          2298          10   \n",
       "14  8/25/2021           188880        637          2288           7   \n",
       "15  8/24/2021           188243        655          2281           5   \n",
       "16  8/23/2021           187588        565          2276           8   \n",
       "17  8/22/2021           187023        388          2268           8   \n",
       "18  8/21/2021           186635       1064          2260          13   \n",
       "\n",
       "    Total recovery  Active cases  \n",
       "0           185379          9089  \n",
       "1           185159          8755  \n",
       "2           184882          8452  \n",
       "3           184530          8429  \n",
       "4           182463         10067  \n",
       "5           179679         11914  \n",
       "6           179294         11862  \n",
       "7           179000         11533  \n",
       "8           178759         11203  \n",
       "9           178492         10858  \n",
       "10          178283         10608  \n",
       "11          178047         10575  \n",
       "12          169815         18210  \n",
       "13          169626         17791  \n",
       "14          169382         17210  \n",
       "15          169035         16927  \n",
       "16          168818         16494  \n",
       "17          168455         16300  \n",
       "18          168320         16055  "
      ]
     },
     "execution_count": 4,
     "metadata": {},
     "output_type": "execute_result"
    }
   ],
   "source": [
    "df"
   ]
  },
  {
   "cell_type": "code",
   "execution_count": 5,
   "metadata": {},
   "outputs": [
    {
     "data": {
      "text/html": [
       "<div>\n",
       "<style scoped>\n",
       "    .dataframe tbody tr th:only-of-type {\n",
       "        vertical-align: middle;\n",
       "    }\n",
       "\n",
       "    .dataframe tbody tr th {\n",
       "        vertical-align: top;\n",
       "    }\n",
       "\n",
       "    .dataframe thead th {\n",
       "        text-align: right;\n",
       "    }\n",
       "</style>\n",
       "<table border=\"1\" class=\"dataframe\">\n",
       "  <thead>\n",
       "    <tr style=\"text-align: right;\">\n",
       "      <th></th>\n",
       "      <th>Date</th>\n",
       "      <th>Confrimed cases</th>\n",
       "      <th>New cases</th>\n",
       "      <th>Total deaths</th>\n",
       "      <th>New deaths</th>\n",
       "      <th>Total recovery</th>\n",
       "      <th>Active cases</th>\n",
       "    </tr>\n",
       "  </thead>\n",
       "  <tbody>\n",
       "    <tr>\n",
       "      <th>0</th>\n",
       "      <td>9/8/2021</td>\n",
       "      <td>197046</td>\n",
       "      <td>559</td>\n",
       "      <td>2578</td>\n",
       "      <td>5</td>\n",
       "      <td>185379</td>\n",
       "      <td>9089</td>\n",
       "    </tr>\n",
       "    <tr>\n",
       "      <th>1</th>\n",
       "      <td>9/7/2021</td>\n",
       "      <td>196487</td>\n",
       "      <td>597</td>\n",
       "      <td>2573</td>\n",
       "      <td>17</td>\n",
       "      <td>185159</td>\n",
       "      <td>8755</td>\n",
       "    </tr>\n",
       "    <tr>\n",
       "      <th>2</th>\n",
       "      <td>9/6/2021</td>\n",
       "      <td>195890</td>\n",
       "      <td>379</td>\n",
       "      <td>2556</td>\n",
       "      <td>4</td>\n",
       "      <td>184882</td>\n",
       "      <td>8452</td>\n",
       "    </tr>\n",
       "    <tr>\n",
       "      <th>3</th>\n",
       "      <td>9/5/2021</td>\n",
       "      <td>195511</td>\n",
       "      <td>459</td>\n",
       "      <td>2552</td>\n",
       "      <td>30</td>\n",
       "      <td>184530</td>\n",
       "      <td>8429</td>\n",
       "    </tr>\n",
       "    <tr>\n",
       "      <th>4</th>\n",
       "      <td>9/4/2021</td>\n",
       "      <td>195052</td>\n",
       "      <td>964</td>\n",
       "      <td>2522</td>\n",
       "      <td>27</td>\n",
       "      <td>182463</td>\n",
       "      <td>10067</td>\n",
       "    </tr>\n",
       "  </tbody>\n",
       "</table>\n",
       "</div>"
      ],
      "text/plain": [
       "       Date  Confrimed cases  New cases  Total deaths  New deaths  \\\n",
       "0  9/8/2021           197046        559          2578           5   \n",
       "1  9/7/2021           196487        597          2573          17   \n",
       "2  9/6/2021           195890        379          2556           4   \n",
       "3  9/5/2021           195511        459          2552          30   \n",
       "4  9/4/2021           195052        964          2522          27   \n",
       "\n",
       "   Total recovery  Active cases  \n",
       "0          185379          9089  \n",
       "1          185159          8755  \n",
       "2          184882          8452  \n",
       "3          184530          8429  \n",
       "4          182463         10067  "
      ]
     },
     "execution_count": 5,
     "metadata": {},
     "output_type": "execute_result"
    }
   ],
   "source": [
    "df.head()"
   ]
  },
  {
   "cell_type": "code",
   "execution_count": 6,
   "metadata": {},
   "outputs": [
    {
     "name": "stdout",
     "output_type": "stream",
     "text": [
      "<class 'pandas.core.frame.DataFrame'>\n",
      "RangeIndex: 19 entries, 0 to 18\n",
      "Data columns (total 7 columns):\n",
      " #   Column           Non-Null Count  Dtype \n",
      "---  ------           --------------  ----- \n",
      " 0   Date             19 non-null     object\n",
      " 1   Confrimed cases  19 non-null     int64 \n",
      " 2   New cases        19 non-null     int64 \n",
      " 3   Total deaths     19 non-null     int64 \n",
      " 4   New deaths       19 non-null     int64 \n",
      " 5   Total recovery   19 non-null     int64 \n",
      " 6   Active cases     19 non-null     int64 \n",
      "dtypes: int64(6), object(1)\n",
      "memory usage: 1.2+ KB\n"
     ]
    }
   ],
   "source": [
    "df.info()"
   ]
  },
  {
   "cell_type": "code",
   "execution_count": 7,
   "metadata": {},
   "outputs": [],
   "source": [
    "#Make the date column be of date data type. It is of object data type by default\n",
    "df['Date'] = pd.to_datetime(df['Date'])\n"
   ]
  },
  {
   "cell_type": "code",
   "execution_count": 8,
   "metadata": {},
   "outputs": [],
   "source": [
    "df=df.set_index('Date')"
   ]
  },
  {
   "cell_type": "code",
   "execution_count": 9,
   "metadata": {},
   "outputs": [
    {
     "data": {
      "text/html": [
       "<div>\n",
       "<style scoped>\n",
       "    .dataframe tbody tr th:only-of-type {\n",
       "        vertical-align: middle;\n",
       "    }\n",
       "\n",
       "    .dataframe tbody tr th {\n",
       "        vertical-align: top;\n",
       "    }\n",
       "\n",
       "    .dataframe thead th {\n",
       "        text-align: right;\n",
       "    }\n",
       "</style>\n",
       "<table border=\"1\" class=\"dataframe\">\n",
       "  <thead>\n",
       "    <tr style=\"text-align: right;\">\n",
       "      <th></th>\n",
       "      <th>Confrimed cases</th>\n",
       "      <th>New cases</th>\n",
       "      <th>Total deaths</th>\n",
       "      <th>New deaths</th>\n",
       "      <th>Total recovery</th>\n",
       "      <th>Active cases</th>\n",
       "    </tr>\n",
       "    <tr>\n",
       "      <th>Date</th>\n",
       "      <th></th>\n",
       "      <th></th>\n",
       "      <th></th>\n",
       "      <th></th>\n",
       "      <th></th>\n",
       "      <th></th>\n",
       "    </tr>\n",
       "  </thead>\n",
       "  <tbody>\n",
       "    <tr>\n",
       "      <th>2021-09-08</th>\n",
       "      <td>197046</td>\n",
       "      <td>559</td>\n",
       "      <td>2578</td>\n",
       "      <td>5</td>\n",
       "      <td>185379</td>\n",
       "      <td>9089</td>\n",
       "    </tr>\n",
       "    <tr>\n",
       "      <th>2021-09-07</th>\n",
       "      <td>196487</td>\n",
       "      <td>597</td>\n",
       "      <td>2573</td>\n",
       "      <td>17</td>\n",
       "      <td>185159</td>\n",
       "      <td>8755</td>\n",
       "    </tr>\n",
       "    <tr>\n",
       "      <th>2021-09-06</th>\n",
       "      <td>195890</td>\n",
       "      <td>379</td>\n",
       "      <td>2556</td>\n",
       "      <td>4</td>\n",
       "      <td>184882</td>\n",
       "      <td>8452</td>\n",
       "    </tr>\n",
       "    <tr>\n",
       "      <th>2021-09-05</th>\n",
       "      <td>195511</td>\n",
       "      <td>459</td>\n",
       "      <td>2552</td>\n",
       "      <td>30</td>\n",
       "      <td>184530</td>\n",
       "      <td>8429</td>\n",
       "    </tr>\n",
       "    <tr>\n",
       "      <th>2021-09-04</th>\n",
       "      <td>195052</td>\n",
       "      <td>964</td>\n",
       "      <td>2522</td>\n",
       "      <td>27</td>\n",
       "      <td>182463</td>\n",
       "      <td>10067</td>\n",
       "    </tr>\n",
       "  </tbody>\n",
       "</table>\n",
       "</div>"
      ],
      "text/plain": [
       "            Confrimed cases  New cases  Total deaths  New deaths  \\\n",
       "Date                                                               \n",
       "2021-09-08           197046        559          2578           5   \n",
       "2021-09-07           196487        597          2573          17   \n",
       "2021-09-06           195890        379          2556           4   \n",
       "2021-09-05           195511        459          2552          30   \n",
       "2021-09-04           195052        964          2522          27   \n",
       "\n",
       "            Total recovery  Active cases  \n",
       "Date                                      \n",
       "2021-09-08          185379          9089  \n",
       "2021-09-07          185159          8755  \n",
       "2021-09-06          184882          8452  \n",
       "2021-09-05          184530          8429  \n",
       "2021-09-04          182463         10067  "
      ]
     },
     "execution_count": 9,
     "metadata": {},
     "output_type": "execute_result"
    }
   ],
   "source": [
    "df.head()"
   ]
  },
  {
   "cell_type": "code",
   "execution_count": 10,
   "metadata": {},
   "outputs": [
    {
     "data": {
      "text/html": [
       "<div>\n",
       "<style scoped>\n",
       "    .dataframe tbody tr th:only-of-type {\n",
       "        vertical-align: middle;\n",
       "    }\n",
       "\n",
       "    .dataframe tbody tr th {\n",
       "        vertical-align: top;\n",
       "    }\n",
       "\n",
       "    .dataframe thead th {\n",
       "        text-align: right;\n",
       "    }\n",
       "</style>\n",
       "<table border=\"1\" class=\"dataframe\">\n",
       "  <thead>\n",
       "    <tr style=\"text-align: right;\">\n",
       "      <th></th>\n",
       "      <th>Confrimed cases</th>\n",
       "      <th>New cases</th>\n",
       "      <th>Total deaths</th>\n",
       "      <th>New deaths</th>\n",
       "      <th>Total recovery</th>\n",
       "      <th>Active cases</th>\n",
       "    </tr>\n",
       "    <tr>\n",
       "      <th>Date</th>\n",
       "      <th></th>\n",
       "      <th></th>\n",
       "      <th></th>\n",
       "      <th></th>\n",
       "      <th></th>\n",
       "      <th></th>\n",
       "    </tr>\n",
       "  </thead>\n",
       "  <tbody>\n",
       "    <tr>\n",
       "      <th>2021-08-25</th>\n",
       "      <td>188880</td>\n",
       "      <td>637</td>\n",
       "      <td>2288</td>\n",
       "      <td>7</td>\n",
       "      <td>169382</td>\n",
       "      <td>17210</td>\n",
       "    </tr>\n",
       "    <tr>\n",
       "      <th>2021-08-24</th>\n",
       "      <td>188243</td>\n",
       "      <td>655</td>\n",
       "      <td>2281</td>\n",
       "      <td>5</td>\n",
       "      <td>169035</td>\n",
       "      <td>16927</td>\n",
       "    </tr>\n",
       "    <tr>\n",
       "      <th>2021-08-23</th>\n",
       "      <td>187588</td>\n",
       "      <td>565</td>\n",
       "      <td>2276</td>\n",
       "      <td>8</td>\n",
       "      <td>168818</td>\n",
       "      <td>16494</td>\n",
       "    </tr>\n",
       "    <tr>\n",
       "      <th>2021-08-22</th>\n",
       "      <td>187023</td>\n",
       "      <td>388</td>\n",
       "      <td>2268</td>\n",
       "      <td>8</td>\n",
       "      <td>168455</td>\n",
       "      <td>16300</td>\n",
       "    </tr>\n",
       "    <tr>\n",
       "      <th>2021-08-21</th>\n",
       "      <td>186635</td>\n",
       "      <td>1064</td>\n",
       "      <td>2260</td>\n",
       "      <td>13</td>\n",
       "      <td>168320</td>\n",
       "      <td>16055</td>\n",
       "    </tr>\n",
       "  </tbody>\n",
       "</table>\n",
       "</div>"
      ],
      "text/plain": [
       "            Confrimed cases  New cases  Total deaths  New deaths  \\\n",
       "Date                                                               \n",
       "2021-08-25           188880        637          2288           7   \n",
       "2021-08-24           188243        655          2281           5   \n",
       "2021-08-23           187588        565          2276           8   \n",
       "2021-08-22           187023        388          2268           8   \n",
       "2021-08-21           186635       1064          2260          13   \n",
       "\n",
       "            Total recovery  Active cases  \n",
       "Date                                      \n",
       "2021-08-25          169382         17210  \n",
       "2021-08-24          169035         16927  \n",
       "2021-08-23          168818         16494  \n",
       "2021-08-22          168455         16300  \n",
       "2021-08-21          168320         16055  "
      ]
     },
     "execution_count": 10,
     "metadata": {},
     "output_type": "execute_result"
    }
   ],
   "source": [
    "df.tail()"
   ]
  },
  {
   "cell_type": "code",
   "execution_count": 11,
   "metadata": {},
   "outputs": [
    {
     "data": {
      "text/plain": [
       "(19, 6)"
      ]
     },
     "execution_count": 11,
     "metadata": {},
     "output_type": "execute_result"
    }
   ],
   "source": [
    "df.shape"
   ]
  },
  {
   "cell_type": "code",
   "execution_count": 12,
   "metadata": {},
   "outputs": [
    {
     "data": {
      "text/plain": [
       "Confrimed cases    0\n",
       "New cases          0\n",
       "Total deaths       0\n",
       "New deaths         0\n",
       "Total recovery     0\n",
       "Active cases       0\n",
       "dtype: int64"
      ]
     },
     "execution_count": 12,
     "metadata": {},
     "output_type": "execute_result"
    }
   ],
   "source": [
    "#Check if there are missing values. The output shows ther are no missing values\n",
    "df.isnull().sum()"
   ]
  },
  {
   "cell_type": "code",
   "execution_count": null,
   "metadata": {},
   "outputs": [],
   "source": []
  },
  {
   "cell_type": "code",
   "execution_count": null,
   "metadata": {},
   "outputs": [],
   "source": []
  },
  {
   "cell_type": "markdown",
   "metadata": {},
   "source": [
    "## ARIMA"
   ]
  },
  {
   "cell_type": "markdown",
   "metadata": {},
   "source": [
    "### Our focus here is to forecast for New cases, New deaths and Total recovery. So, we will focus on these three variables."
   ]
  },
  {
   "cell_type": "code",
   "execution_count": 13,
   "metadata": {},
   "outputs": [
    {
     "data": {
      "image/png": "[encoded data removed]",
      "text/plain": [
       "<Figure size 432x288 with 1 Axes>"
      ]
     },
     "metadata": {
      "needs_background": "light"
     },
     "output_type": "display_data"
    }
   ],
   "source": [
    "#Plot the variables to observes the trends present in them\n",
    "sns.lineplot(df.index,df['New cases'],color='gold')\n",
    "plt.xlabel('Date')\n",
    "plt.xticks(rotation=35);"
   ]
  },
  {
   "cell_type": "code",
   "execution_count": 14,
   "metadata": {},
   "outputs": [
    {
     "data": {
      "image/png": "[encoded data removed]",
      "text/plain": [
       "<Figure size 432x288 with 1 Axes>"
      ]
     },
     "metadata": {
      "needs_background": "light"
     },
     "output_type": "display_data"
    }
   ],
   "source": [
    "sns.lineplot(df.index,df['New deaths'],color='r')\n",
    "plt.xlabel('Date')\n",
    "plt.xticks(rotation=35);"
   ]
  },
  {
   "cell_type": "code",
   "execution_count": 15,
   "metadata": {},
   "outputs": [
    {
     "data": {
      "image/png": "[encoded data removed]",
      "text/plain": [
       "<Figure size 432x288 with 1 Axes>"
      ]
     },
     "metadata": {
      "needs_background": "light"
     },
     "output_type": "display_data"
    }
   ],
   "source": [
    "sns.lineplot(df.index,df['Total recovery'],color='teal')\n",
    "plt.xlabel('Date')\n",
    "plt.xticks(rotation=35);"
   ]
  },
  {
   "cell_type": "markdown",
   "metadata": {},
   "source": []
  },
  {
   "cell_type": "markdown",
   "metadata": {},
   "source": [
    "## Perform ARIMA model for the variable - New cases"
   ]
  },
  {
   "cell_type": "code",
   "execution_count": 16,
   "metadata": {},
   "outputs": [
    {
     "name": "stdout",
     "output_type": "stream",
     "text": [
      "Performing stepwise search to minimize aic\n",
      " ARIMA(1,2,1)(0,0,0)[0] intercept   : AIC=inf, Time=1.45 sec\n",
      " ARIMA(0,2,0)(0,0,0)[0] intercept   : AIC=258.999, Time=0.03 sec\n",
      " ARIMA(1,2,0)(0,0,0)[0] intercept   : AIC=253.180, Time=0.14 sec\n",
      " ARIMA(0,2,1)(0,0,0)[0] intercept   : AIC=inf, Time=0.10 sec\n",
      " ARIMA(0,2,0)(0,0,0)[0]             : AIC=257.124, Time=0.01 sec\n",
      " ARIMA(2,2,0)(0,0,0)[0] intercept   : AIC=250.744, Time=0.41 sec\n",
      " ARIMA(3,2,0)(0,0,0)[0] intercept   : AIC=251.530, Time=0.83 sec\n",
      " ARIMA(2,2,1)(0,0,0)[0] intercept   : AIC=inf, Time=0.69 sec\n",
      " ARIMA(3,2,1)(0,0,0)[0] intercept   : AIC=248.072, Time=0.45 sec\n",
      " ARIMA(3,2,2)(0,0,0)[0] intercept   : AIC=inf, Time=0.40 sec\n",
      " ARIMA(2,2,2)(0,0,0)[0] intercept   : AIC=inf, Time=0.32 sec\n",
      " ARIMA(3,2,1)(0,0,0)[0]             : AIC=inf, Time=0.17 sec\n",
      "\n",
      "Best model:  ARIMA(3,2,1)(0,0,0)[0] intercept\n",
      "Total fit time: 5.398 seconds\n"
     ]
    }
   ],
   "source": [
    "model_new_cases = auto_arima(df['New cases'],start_p=1,start_q=1,test='adf',max_p=3,max_q=3,m=1,d=None,seasonal=False,trace=True,strat_p=0,D=0,error_action='ignore',supress_warning=True,stepwise=True)"
   ]
  },
  {
   "cell_type": "code",
   "execution_count": 17,
   "metadata": {},
   "outputs": [
    {
     "name": "stdout",
     "output_type": "stream",
     "text": [
      "                               SARIMAX Results                                \n",
      "==============================================================================\n",
      "Dep. Variable:                      y   No. Observations:                   19\n",
      "Model:               SARIMAX(3, 2, 1)   Log Likelihood                -118.036\n",
      "Date:                Wed, 15 Sep 2021   AIC                            248.072\n",
      "Time:                        03:15:34   BIC                            253.072\n",
      "Sample:                             0   HQIC                           248.569\n",
      "                                 - 19                                         \n",
      "Covariance Type:                  opg                                         \n",
      "==============================================================================\n",
      "                 coef    std err          z      P>|z|      [0.025      0.975]\n",
      "------------------------------------------------------------------------------\n",
      "intercept      1.9105     18.354      0.104      0.917     -34.062      37.883\n",
      "ar.L1         -0.8235      0.550     -1.496      0.135      -1.902       0.255\n",
      "ar.L2         -0.5421      0.517     -1.049      0.294      -1.555       0.471\n",
      "ar.L3         -0.1901      0.616     -0.309      0.758      -1.398       1.017\n",
      "ma.L1         -0.9821      4.574     -0.215      0.830      -9.947       7.983\n",
      "sigma2      4.774e+04   2.11e+05      0.226      0.821   -3.66e+05    4.61e+05\n",
      "===================================================================================\n",
      "Ljung-Box (L1) (Q):                   0.24   Jarque-Bera (JB):                 2.04\n",
      "Prob(Q):                              0.62   Prob(JB):                         0.36\n",
      "Heteroskedasticity (H):               1.62   Skew:                             0.84\n",
      "Prob(H) (two-sided):                  0.57   Kurtosis:                         2.70\n",
      "===================================================================================\n",
      "\n",
      "Warnings:\n",
      "[1] Covariance matrix calculated using the outer product of gradients (complex-step).\n"
     ]
    }
   ],
   "source": [
    "print(model_new_cases.summary())"
   ]
  },
  {
   "cell_type": "code",
   "execution_count": 18,
   "metadata": {},
   "outputs": [
    {
     "data": {
      "image/png": "[encoded data removed]",
      "text/plain": [
       "<Figure size 576x432 with 4 Axes>"
      ]
     },
     "metadata": {
      "needs_background": "light"
     },
     "output_type": "display_data"
    }
   ],
   "source": [
    "#Diagnostic plot for the new cases ARIMA model conducted\n",
    "model_new_cases.plot_diagnostics(figsize=(8,6))\n",
    "plt.show()"
   ]
  },
  {
   "cell_type": "code",
   "execution_count": null,
   "metadata": {},
   "outputs": [],
   "source": []
  },
  {
   "cell_type": "code",
   "execution_count": 19,
   "metadata": {},
   "outputs": [],
   "source": [
    "#Forecast the new cases for the next 7 days\n",
    "n_periods=7\n",
    "forecast_new_cases= model_new_cases.predict(n_periods)\n",
    "forecast_new_cases= pd.DataFrame(forecast_new_cases,columns=['New_cases_prediction'])"
   ]
  },
  {
   "cell_type": "code",
   "execution_count": 20,
   "metadata": {},
   "outputs": [
    {
     "data": {
      "text/html": [
       "<div>\n",
       "<style scoped>\n",
       "    .dataframe tbody tr th:only-of-type {\n",
       "        vertical-align: middle;\n",
       "    }\n",
       "\n",
       "    .dataframe tbody tr th {\n",
       "        vertical-align: top;\n",
       "    }\n",
       "\n",
       "    .dataframe thead th {\n",
       "        text-align: right;\n",
       "    }\n",
       "</style>\n",
       "<table border=\"1\" class=\"dataframe\">\n",
       "  <thead>\n",
       "    <tr style=\"text-align: right;\">\n",
       "      <th></th>\n",
       "      <th>New_cases_prediction</th>\n",
       "    </tr>\n",
       "  </thead>\n",
       "  <tbody>\n",
       "    <tr>\n",
       "      <th>0</th>\n",
       "      <td>667.471581</td>\n",
       "    </tr>\n",
       "    <tr>\n",
       "      <th>1</th>\n",
       "      <td>710.269538</td>\n",
       "    </tr>\n",
       "    <tr>\n",
       "      <th>2</th>\n",
       "      <td>812.421018</td>\n",
       "    </tr>\n",
       "    <tr>\n",
       "      <th>3</th>\n",
       "      <td>833.326529</td>\n",
       "    </tr>\n",
       "    <tr>\n",
       "      <th>4</th>\n",
       "      <td>807.370250</td>\n",
       "    </tr>\n",
       "    <tr>\n",
       "      <th>5</th>\n",
       "      <td>854.675318</td>\n",
       "    </tr>\n",
       "    <tr>\n",
       "      <th>6</th>\n",
       "      <td>884.403298</td>\n",
       "    </tr>\n",
       "  </tbody>\n",
       "</table>\n",
       "</div>"
      ],
      "text/plain": [
       "   New_cases_prediction\n",
       "0            667.471581\n",
       "1            710.269538\n",
       "2            812.421018\n",
       "3            833.326529\n",
       "4            807.370250\n",
       "5            854.675318\n",
       "6            884.403298"
      ]
     },
     "execution_count": 20,
     "metadata": {},
     "output_type": "execute_result"
    }
   ],
   "source": [
    "forecast_new_cases"
   ]
  },
  {
   "cell_type": "code",
   "execution_count": null,
   "metadata": {},
   "outputs": [],
   "source": []
  },
  {
   "cell_type": "markdown",
   "metadata": {},
   "source": [
    "## Perform ARIMA model for the variable - New deaths"
   ]
  },
  {
   "cell_type": "code",
   "execution_count": 21,
   "metadata": {},
   "outputs": [
    {
     "name": "stdout",
     "output_type": "stream",
     "text": [
      "Performing stepwise search to minimize aic\n",
      " ARIMA(1,2,1)(0,0,0)[0] intercept   : AIC=inf, Time=0.32 sec\n",
      " ARIMA(0,2,0)(0,0,0)[0] intercept   : AIC=181.633, Time=0.02 sec\n",
      " ARIMA(1,2,0)(0,0,0)[0] intercept   : AIC=178.798, Time=0.06 sec\n",
      " ARIMA(0,2,1)(0,0,0)[0] intercept   : AIC=inf, Time=0.08 sec\n",
      " ARIMA(0,2,0)(0,0,0)[0]             : AIC=179.635, Time=0.02 sec\n",
      " ARIMA(2,2,0)(0,0,0)[0] intercept   : AIC=176.053, Time=0.15 sec\n",
      " ARIMA(3,2,0)(0,0,0)[0] intercept   : AIC=176.466, Time=0.32 sec\n",
      " ARIMA(2,2,1)(0,0,0)[0] intercept   : AIC=inf, Time=0.18 sec\n",
      " ARIMA(3,2,1)(0,0,0)[0] intercept   : AIC=inf, Time=0.41 sec\n",
      " ARIMA(2,2,0)(0,0,0)[0]             : AIC=174.057, Time=0.16 sec\n",
      " ARIMA(1,2,0)(0,0,0)[0]             : AIC=176.798, Time=0.10 sec\n",
      " ARIMA(3,2,0)(0,0,0)[0]             : AIC=174.474, Time=0.18 sec\n",
      " ARIMA(2,2,1)(0,0,0)[0]             : AIC=inf, Time=0.21 sec\n",
      " ARIMA(1,2,1)(0,0,0)[0]             : AIC=inf, Time=0.34 sec\n",
      " ARIMA(3,2,1)(0,0,0)[0]             : AIC=inf, Time=0.41 sec\n",
      "\n",
      "Best model:  ARIMA(2,2,0)(0,0,0)[0]          \n",
      "Total fit time: 3.001 seconds\n"
     ]
    }
   ],
   "source": [
    "model_new_deaths = auto_arima(df['New deaths'],start_p=1,start_q=1,test='adf',max_p=3,max_q=3,m=1,d=None,seasonal=False,trace=True,strat_p=0,D=0,error_action='ignore',supress_warning=True,stepwise=True)"
   ]
  },
  {
   "cell_type": "code",
   "execution_count": 22,
   "metadata": {},
   "outputs": [
    {
     "name": "stdout",
     "output_type": "stream",
     "text": [
      "                               SARIMAX Results                                \n",
      "==============================================================================\n",
      "Dep. Variable:                      y   No. Observations:                   19\n",
      "Model:               SARIMAX(2, 2, 0)   Log Likelihood                 -84.028\n",
      "Date:                Wed, 15 Sep 2021   AIC                            174.057\n",
      "Time:                        03:15:38   BIC                            176.556\n",
      "Sample:                             0   HQIC                           174.305\n",
      "                                 - 19                                         \n",
      "Covariance Type:                  opg                                         \n",
      "==============================================================================\n",
      "                 coef    std err          z      P>|z|      [0.025      0.975]\n",
      "------------------------------------------------------------------------------\n",
      "ar.L1         -0.7315      0.186     -3.935      0.000      -1.096      -0.367\n",
      "ar.L2         -0.4756      0.278     -1.708      0.088      -1.021       0.070\n",
      "sigma2      1097.9924    315.811      3.477      0.001     479.014    1716.971\n",
      "===================================================================================\n",
      "Ljung-Box (L1) (Q):                   0.73   Jarque-Bera (JB):                 4.34\n",
      "Prob(Q):                              0.39   Prob(JB):                         0.11\n",
      "Heteroskedasticity (H):               1.04   Skew:                             0.80\n",
      "Prob(H) (two-sided):                  0.96   Kurtosis:                         4.90\n",
      "===================================================================================\n",
      "\n",
      "Warnings:\n",
      "[1] Covariance matrix calculated using the outer product of gradients (complex-step).\n"
     ]
    }
   ],
   "source": [
    "print(model_new_deaths.summary())"
   ]
  },
  {
   "cell_type": "code",
   "execution_count": 23,
   "metadata": {},
   "outputs": [
    {
     "data": {
      "image/png": "[encoded data removed]",
      "text/plain": [
       "<Figure size 576x432 with 4 Axes>"
      ]
     },
     "metadata": {
      "needs_background": "light"
     },
     "output_type": "display_data"
    }
   ],
   "source": [
    "#Diagnostic plot for the new cases ARIMA model conducted\n",
    "model_new_deaths.plot_diagnostics(figsize=(8,6))\n",
    "plt.show()"
   ]
  },
  {
   "cell_type": "code",
   "execution_count": 24,
   "metadata": {},
   "outputs": [],
   "source": [
    "#Forecast the new cases for the next 7 days\n",
    "n_periods=7\n",
    "forecast_new_deaths= model_new_deaths.predict(n_periods=n_periods)\n",
    "forecast_new_deaths= pd.DataFrame(forecast_new_deaths,columns=['New_deaths_prediction'])"
   ]
  },
  {
   "cell_type": "code",
   "execution_count": 25,
   "metadata": {},
   "outputs": [
    {
     "data": {
      "text/html": [
       "<div>\n",
       "<style scoped>\n",
       "    .dataframe tbody tr th:only-of-type {\n",
       "        vertical-align: middle;\n",
       "    }\n",
       "\n",
       "    .dataframe tbody tr th {\n",
       "        vertical-align: top;\n",
       "    }\n",
       "\n",
       "    .dataframe thead th {\n",
       "        text-align: right;\n",
       "    }\n",
       "</style>\n",
       "<table border=\"1\" class=\"dataframe\">\n",
       "  <thead>\n",
       "    <tr style=\"text-align: right;\">\n",
       "      <th></th>\n",
       "      <th>New_deaths_prediction</th>\n",
       "    </tr>\n",
       "  </thead>\n",
       "  <tbody>\n",
       "    <tr>\n",
       "      <th>0</th>\n",
       "      <td>15.769213</td>\n",
       "    </tr>\n",
       "    <tr>\n",
       "      <th>1</th>\n",
       "      <td>17.792319</td>\n",
       "    </tr>\n",
       "    <tr>\n",
       "      <th>2</th>\n",
       "      <td>21.422153</td>\n",
       "    </tr>\n",
       "    <tr>\n",
       "      <th>3</th>\n",
       "      <td>24.231489</td>\n",
       "    </tr>\n",
       "    <tr>\n",
       "      <th>4</th>\n",
       "      <td>26.876883</td>\n",
       "    </tr>\n",
       "    <tr>\n",
       "      <th>5</th>\n",
       "      <td>30.032424</td>\n",
       "    </tr>\n",
       "    <tr>\n",
       "      <th>6</th>\n",
       "      <td>32.892755</td>\n",
       "    </tr>\n",
       "  </tbody>\n",
       "</table>\n",
       "</div>"
      ],
      "text/plain": [
       "   New_deaths_prediction\n",
       "0              15.769213\n",
       "1              17.792319\n",
       "2              21.422153\n",
       "3              24.231489\n",
       "4              26.876883\n",
       "5              30.032424\n",
       "6              32.892755"
      ]
     },
     "execution_count": 25,
     "metadata": {},
     "output_type": "execute_result"
    }
   ],
   "source": [
    "forecast_new_deaths"
   ]
  },
  {
   "cell_type": "markdown",
   "metadata": {},
   "source": []
  },
  {
   "cell_type": "markdown",
   "metadata": {},
   "source": [
    "## Perform ARIMA model for the variable - Total recovery"
   ]
  },
  {
   "cell_type": "code",
   "execution_count": 26,
   "metadata": {},
   "outputs": [
    {
     "name": "stdout",
     "output_type": "stream",
     "text": [
      "Performing stepwise search to minimize aic\n",
      " ARIMA(1,2,1)(0,0,0)[0] intercept   : AIC=inf, Time=0.68 sec\n",
      " ARIMA(0,2,0)(0,0,0)[0] intercept   : AIC=322.702, Time=0.01 sec\n",
      " ARIMA(1,2,0)(0,0,0)[0] intercept   : AIC=325.001, Time=0.02 sec\n",
      " ARIMA(0,2,1)(0,0,0)[0] intercept   : AIC=325.263, Time=0.02 sec\n",
      " ARIMA(0,2,0)(0,0,0)[0]             : AIC=320.703, Time=0.02 sec\n",
      "\n",
      "Best model:  ARIMA(0,2,0)(0,0,0)[0]          \n",
      "Total fit time: 0.780 seconds\n"
     ]
    }
   ],
   "source": [
    "model_total_recovery = auto_arima(df['Total recovery'],start_p=1,start_q=1,test='adf',max_p=3,max_q=3,m=1,d=None,seasonal=False,trace=True,strat_p=0,D=0,error_action='ignore',supress_warning=True,stepwise=True)"
   ]
  },
  {
   "cell_type": "code",
   "execution_count": 27,
   "metadata": {},
   "outputs": [
    {
     "name": "stdout",
     "output_type": "stream",
     "text": [
      "                               SARIMAX Results                                \n",
      "==============================================================================\n",
      "Dep. Variable:                      y   No. Observations:                   19\n",
      "Model:               SARIMAX(0, 2, 0)   Log Likelihood                -159.352\n",
      "Date:                Wed, 15 Sep 2021   AIC                            320.703\n",
      "Time:                        03:15:41   BIC                            321.536\n",
      "Sample:                             0   HQIC                           320.786\n",
      "                                 - 19                                         \n",
      "Covariance Type:                  opg                                         \n",
      "==============================================================================\n",
      "                 coef    std err          z      P>|z|      [0.025      0.975]\n",
      "------------------------------------------------------------------------------\n",
      "sigma2       8.02e+06   1.52e+06      5.288      0.000    5.05e+06     1.1e+07\n",
      "===================================================================================\n",
      "Ljung-Box (L1) (Q):                   4.44   Jarque-Bera (JB):                13.88\n",
      "Prob(Q):                              0.04   Prob(JB):                         0.00\n",
      "Heteroskedasticity (H):               7.02   Skew:                             0.04\n",
      "Prob(H) (two-sided):                  0.03   Kurtosis:                         7.43\n",
      "===================================================================================\n",
      "\n",
      "Warnings:\n",
      "[1] Covariance matrix calculated using the outer product of gradients (complex-step).\n"
     ]
    }
   ],
   "source": [
    "print(model_total_recovery.summary())"
   ]
  },
  {
   "cell_type": "code",
   "execution_count": 28,
   "metadata": {},
   "outputs": [
    {
     "data": {
      "image/png": "[encoded data removed]",
      "text/plain": [
       "<Figure size 576x432 with 4 Axes>"
      ]
     },
     "metadata": {
      "needs_background": "light"
     },
     "output_type": "display_data"
    }
   ],
   "source": [
    "#Diagnostic plot for the new cases ARIMA model conducted\n",
    "model_total_recovery.plot_diagnostics(figsize=(8,6))\n",
    "plt.show()"
   ]
  },
  {
   "cell_type": "code",
   "execution_count": 29,
   "metadata": {},
   "outputs": [],
   "source": [
    "#Forecast the new cases for the next 7 days\n",
    "n_periods=7\n",
    "forecast_total_recovery= model_total_recovery.predict(n_periods=n_periods)\n",
    "forecast_total_recovery= pd.DataFrame(forecast_total_recovery,columns=['Total_recovery_prediction'])"
   ]
  },
  {
   "cell_type": "code",
   "execution_count": 30,
   "metadata": {},
   "outputs": [
    {
     "data": {
      "text/html": [
       "<div>\n",
       "<style scoped>\n",
       "    .dataframe tbody tr th:only-of-type {\n",
       "        vertical-align: middle;\n",
       "    }\n",
       "\n",
       "    .dataframe tbody tr th {\n",
       "        vertical-align: top;\n",
       "    }\n",
       "\n",
       "    .dataframe thead th {\n",
       "        text-align: right;\n",
       "    }\n",
       "</style>\n",
       "<table border=\"1\" class=\"dataframe\">\n",
       "  <thead>\n",
       "    <tr style=\"text-align: right;\">\n",
       "      <th></th>\n",
       "      <th>Total_recovery_prediction</th>\n",
       "    </tr>\n",
       "  </thead>\n",
       "  <tbody>\n",
       "    <tr>\n",
       "      <th>0</th>\n",
       "      <td>168185.0</td>\n",
       "    </tr>\n",
       "    <tr>\n",
       "      <th>1</th>\n",
       "      <td>168050.0</td>\n",
       "    </tr>\n",
       "    <tr>\n",
       "      <th>2</th>\n",
       "      <td>167915.0</td>\n",
       "    </tr>\n",
       "    <tr>\n",
       "      <th>3</th>\n",
       "      <td>167780.0</td>\n",
       "    </tr>\n",
       "    <tr>\n",
       "      <th>4</th>\n",
       "      <td>167645.0</td>\n",
       "    </tr>\n",
       "    <tr>\n",
       "      <th>5</th>\n",
       "      <td>167510.0</td>\n",
       "    </tr>\n",
       "    <tr>\n",
       "      <th>6</th>\n",
       "      <td>167375.0</td>\n",
       "    </tr>\n",
       "  </tbody>\n",
       "</table>\n",
       "</div>"
      ],
      "text/plain": [
       "   Total_recovery_prediction\n",
       "0                   168185.0\n",
       "1                   168050.0\n",
       "2                   167915.0\n",
       "3                   167780.0\n",
       "4                   167645.0\n",
       "5                   167510.0\n",
       "6                   167375.0"
      ]
     },
     "execution_count": 30,
     "metadata": {},
     "output_type": "execute_result"
    }
   ],
   "source": [
    "forecast_total_recovery"
   ]
  },
  {
   "cell_type": "code",
   "execution_count": null,
   "metadata": {},
   "outputs": [],
   "source": []
  },
  {
   "cell_type": "code",
   "execution_count": null,
   "metadata": {},
   "outputs": [],
   "source": []
  },
  {
   "cell_type": "markdown",
   "metadata": {},
   "source": [
    "## SARIMA"
   ]
  },
  {
   "cell_type": "markdown",
   "metadata": {},
   "source": [
    "## Perform SARIMA model for the variable - New cases"
   ]
  },
  {
   "cell_type": "code",
   "execution_count": 31,
   "metadata": {},
   "outputs": [
    {
     "name": "stdout",
     "output_type": "stream",
     "text": [
      "Performing stepwise search to minimize aic\n",
      " ARIMA(1,2,1)(0,0,0)[0]             : AIC=inf, Time=0.20 sec\n",
      " ARIMA(0,2,0)(0,0,0)[0]             : AIC=257.124, Time=0.04 sec\n",
      " ARIMA(1,2,0)(0,0,0)[0]             : AIC=251.378, Time=0.10 sec\n",
      " ARIMA(0,2,1)(0,0,0)[0]             : AIC=inf, Time=0.11 sec\n",
      " ARIMA(2,2,0)(0,0,0)[0]             : AIC=248.960, Time=0.18 sec\n",
      " ARIMA(3,2,0)(0,0,0)[0]             : AIC=249.620, Time=0.36 sec\n",
      " ARIMA(2,2,1)(0,0,0)[0]             : AIC=inf, Time=0.15 sec\n",
      " ARIMA(3,2,1)(0,0,0)[0]             : AIC=inf, Time=0.18 sec\n",
      " ARIMA(2,2,0)(0,0,0)[0] intercept   : AIC=250.744, Time=0.22 sec\n",
      "\n",
      "Best model:  ARIMA(2,2,0)(0,0,0)[0]          \n",
      "Total fit time: 1.620 seconds\n"
     ]
    }
   ],
   "source": [
    "smodel_new_cases = auto_arima(df['New cases'],start_p=1,start_q=1,test='adf',max_p=3,max_q=3,m=1,d=None,seasonal=True,trace=True,strat_p=0,D=0,error_action='ignore',supress_warning=True,stepwise=True)"
   ]
  },
  {
   "cell_type": "code",
   "execution_count": 32,
   "metadata": {},
   "outputs": [
    {
     "name": "stdout",
     "output_type": "stream",
     "text": [
      "                               SARIMAX Results                                \n",
      "==============================================================================\n",
      "Dep. Variable:                      y   No. Observations:                   19\n",
      "Model:               SARIMAX(2, 2, 0)   Log Likelihood                -121.480\n",
      "Date:                Wed, 15 Sep 2021   AIC                            248.960\n",
      "Time:                        03:15:43   BIC                            251.460\n",
      "Sample:                             0   HQIC                           249.209\n",
      "                                 - 19                                         \n",
      "Covariance Type:                  opg                                         \n",
      "==============================================================================\n",
      "                 coef    std err          z      P>|z|      [0.025      0.975]\n",
      "------------------------------------------------------------------------------\n",
      "ar.L1         -1.0477      0.294     -3.562      0.000      -1.624      -0.471\n",
      "ar.L2         -0.5420      0.358     -1.515      0.130      -1.243       0.159\n",
      "sigma2      8.811e+04   3.48e+04      2.528      0.011    1.98e+04    1.56e+05\n",
      "===================================================================================\n",
      "Ljung-Box (L1) (Q):                   0.49   Jarque-Bera (JB):                 1.98\n",
      "Prob(Q):                              0.48   Prob(JB):                         0.37\n",
      "Heteroskedasticity (H):               1.07   Skew:                             0.84\n",
      "Prob(H) (two-sided):                  0.94   Kurtosis:                         3.03\n",
      "===================================================================================\n",
      "\n",
      "Warnings:\n",
      "[1] Covariance matrix calculated using the outer product of gradients (complex-step).\n"
     ]
    }
   ],
   "source": [
    "print(smodel_new_cases.summary())"
   ]
  },
  {
   "cell_type": "code",
   "execution_count": 33,
   "metadata": {},
   "outputs": [
    {
     "data": {
      "image/png": "[encoded data removed]",
      "text/plain": [
       "<Figure size 576x432 with 4 Axes>"
      ]
     },
     "metadata": {
      "needs_background": "light"
     },
     "output_type": "display_data"
    }
   ],
   "source": [
    "#Diagnostic plot for the new cases SARIMA model conducted\n",
    "smodel_new_cases.plot_diagnostics(figsize=(8,6))\n",
    "plt.show()"
   ]
  },
  {
   "cell_type": "code",
   "execution_count": 34,
   "metadata": {},
   "outputs": [],
   "source": [
    "#Forecast the new cases for the next 7 days\n",
    "n_periods=7\n",
    "forecast_new_cases= smodel_new_cases.predict(n_periods=n_periods)\n",
    "forecast_new_cases= pd.DataFrame(forecast_new_cases,columns=['New_cases_prediction'])"
   ]
  },
  {
   "cell_type": "code",
   "execution_count": 35,
   "metadata": {},
   "outputs": [
    {
     "data": {
      "text/html": [
       "<div>\n",
       "<style scoped>\n",
       "    .dataframe tbody tr th:only-of-type {\n",
       "        vertical-align: middle;\n",
       "    }\n",
       "\n",
       "    .dataframe tbody tr th {\n",
       "        vertical-align: top;\n",
       "    }\n",
       "\n",
       "    .dataframe thead th {\n",
       "        text-align: right;\n",
       "    }\n",
       "</style>\n",
       "<table border=\"1\" class=\"dataframe\">\n",
       "  <thead>\n",
       "    <tr style=\"text-align: right;\">\n",
       "      <th></th>\n",
       "      <th>New_cases_prediction</th>\n",
       "    </tr>\n",
       "  </thead>\n",
       "  <tbody>\n",
       "    <tr>\n",
       "      <th>0</th>\n",
       "      <td>893.445898</td>\n",
       "    </tr>\n",
       "    <tr>\n",
       "      <th>1</th>\n",
       "      <td>1147.539549</td>\n",
       "    </tr>\n",
       "    <tr>\n",
       "      <th>2</th>\n",
       "      <td>1415.532031</td>\n",
       "    </tr>\n",
       "    <tr>\n",
       "      <th>3</th>\n",
       "      <td>1438.813952</td>\n",
       "    </tr>\n",
       "    <tr>\n",
       "      <th>4</th>\n",
       "      <td>1710.951423</td>\n",
       "    </tr>\n",
       "    <tr>\n",
       "      <th>5</th>\n",
       "      <td>1854.984740</td>\n",
       "    </tr>\n",
       "    <tr>\n",
       "      <th>6</th>\n",
       "      <td>1998.361970</td>\n",
       "    </tr>\n",
       "  </tbody>\n",
       "</table>\n",
       "</div>"
      ],
      "text/plain": [
       "   New_cases_prediction\n",
       "0            893.445898\n",
       "1           1147.539549\n",
       "2           1415.532031\n",
       "3           1438.813952\n",
       "4           1710.951423\n",
       "5           1854.984740\n",
       "6           1998.361970"
      ]
     },
     "execution_count": 35,
     "metadata": {},
     "output_type": "execute_result"
    }
   ],
   "source": [
    "forecast_new_cases"
   ]
  },
  {
   "cell_type": "markdown",
   "metadata": {},
   "source": [
    "## Perform SARIMA model for the variable - New deaths"
   ]
  },
  {
   "cell_type": "code",
   "execution_count": 36,
   "metadata": {},
   "outputs": [
    {
     "name": "stdout",
     "output_type": "stream",
     "text": [
      "Performing stepwise search to minimize aic\n",
      " ARIMA(1,2,1)(0,0,0)[0]             : AIC=inf, Time=0.39 sec\n",
      " ARIMA(0,2,0)(0,0,0)[0]             : AIC=179.635, Time=0.02 sec\n",
      " ARIMA(1,2,0)(0,0,0)[0]             : AIC=176.798, Time=0.04 sec\n",
      " ARIMA(0,2,1)(0,0,0)[0]             : AIC=inf, Time=0.08 sec\n",
      " ARIMA(2,2,0)(0,0,0)[0]             : AIC=174.057, Time=0.13 sec\n",
      " ARIMA(3,2,0)(0,0,0)[0]             : AIC=174.474, Time=0.26 sec\n",
      " ARIMA(2,2,1)(0,0,0)[0]             : AIC=inf, Time=0.15 sec\n",
      " ARIMA(3,2,1)(0,0,0)[0]             : AIC=inf, Time=0.23 sec\n",
      " ARIMA(2,2,0)(0,0,0)[0] intercept   : AIC=176.053, Time=0.32 sec\n",
      "\n",
      "Best model:  ARIMA(2,2,0)(0,0,0)[0]          \n",
      "Total fit time: 1.649 seconds\n"
     ]
    }
   ],
   "source": [
    "smodel_new_deaths = auto_arima(df['New deaths'],start_p=1,start_q=1,test='adf',max_p=3,max_q=3,m=1,d=None,seasonal=True,trace=True,strat_p=0,D=0,error_action='ignore',supress_warning=True,stepwise=True)"
   ]
  },
  {
   "cell_type": "code",
   "execution_count": 37,
   "metadata": {},
   "outputs": [
    {
     "name": "stdout",
     "output_type": "stream",
     "text": [
      "                               SARIMAX Results                                \n",
      "==============================================================================\n",
      "Dep. Variable:                      y   No. Observations:                   19\n",
      "Model:               SARIMAX(2, 2, 0)   Log Likelihood                 -84.028\n",
      "Date:                Wed, 15 Sep 2021   AIC                            174.057\n",
      "Time:                        03:15:47   BIC                            176.556\n",
      "Sample:                             0   HQIC                           174.305\n",
      "                                 - 19                                         \n",
      "Covariance Type:                  opg                                         \n",
      "==============================================================================\n",
      "                 coef    std err          z      P>|z|      [0.025      0.975]\n",
      "------------------------------------------------------------------------------\n",
      "ar.L1         -0.7315      0.186     -3.935      0.000      -1.096      -0.367\n",
      "ar.L2         -0.4756      0.278     -1.708      0.088      -1.021       0.070\n",
      "sigma2      1097.9924    315.811      3.477      0.001     479.014    1716.971\n",
      "===================================================================================\n",
      "Ljung-Box (L1) (Q):                   0.73   Jarque-Bera (JB):                 4.34\n",
      "Prob(Q):                              0.39   Prob(JB):                         0.11\n",
      "Heteroskedasticity (H):               1.04   Skew:                             0.80\n",
      "Prob(H) (two-sided):                  0.96   Kurtosis:                         4.90\n",
      "===================================================================================\n",
      "\n",
      "Warnings:\n",
      "[1] Covariance matrix calculated using the outer product of gradients (complex-step).\n"
     ]
    }
   ],
   "source": [
    "print(smodel_new_deaths.summary())"
   ]
  },
  {
   "cell_type": "code",
   "execution_count": 38,
   "metadata": {},
   "outputs": [
    {
     "data": {
      "image/png": "[encoded data removed]",
      "text/plain": [
       "<Figure size 576x432 with 4 Axes>"
      ]
     },
     "metadata": {
      "needs_background": "light"
     },
     "output_type": "display_data"
    }
   ],
   "source": [
    "#Diagnostic plot for the new cases SARIMA model conducted\n",
    "smodel_new_deaths.plot_diagnostics(figsize=(8,6))\n",
    "plt.show()"
   ]
  },
  {
   "cell_type": "code",
   "execution_count": 39,
   "metadata": {},
   "outputs": [],
   "source": [
    "#Forecast the new cases for the next 7 days\n",
    "n_periods=7\n",
    "forecast_new_deaths= smodel_new_deaths.predict(n_periods=n_periods)\n",
    "forecast_new_deaths= pd.DataFrame(forecast_new_deaths,columns=['New_deaths_prediction'])"
   ]
  },
  {
   "cell_type": "code",
   "execution_count": 40,
   "metadata": {},
   "outputs": [
    {
     "data": {
      "text/html": [
       "<div>\n",
       "<style scoped>\n",
       "    .dataframe tbody tr th:only-of-type {\n",
       "        vertical-align: middle;\n",
       "    }\n",
       "\n",
       "    .dataframe tbody tr th {\n",
       "        vertical-align: top;\n",
       "    }\n",
       "\n",
       "    .dataframe thead th {\n",
       "        text-align: right;\n",
       "    }\n",
       "</style>\n",
       "<table border=\"1\" class=\"dataframe\">\n",
       "  <thead>\n",
       "    <tr style=\"text-align: right;\">\n",
       "      <th></th>\n",
       "      <th>New_deaths_prediction</th>\n",
       "    </tr>\n",
       "  </thead>\n",
       "  <tbody>\n",
       "    <tr>\n",
       "      <th>0</th>\n",
       "      <td>15.769213</td>\n",
       "    </tr>\n",
       "    <tr>\n",
       "      <th>1</th>\n",
       "      <td>17.792319</td>\n",
       "    </tr>\n",
       "    <tr>\n",
       "      <th>2</th>\n",
       "      <td>21.422153</td>\n",
       "    </tr>\n",
       "    <tr>\n",
       "      <th>3</th>\n",
       "      <td>24.231489</td>\n",
       "    </tr>\n",
       "    <tr>\n",
       "      <th>4</th>\n",
       "      <td>26.876883</td>\n",
       "    </tr>\n",
       "    <tr>\n",
       "      <th>5</th>\n",
       "      <td>30.032424</td>\n",
       "    </tr>\n",
       "    <tr>\n",
       "      <th>6</th>\n",
       "      <td>32.892755</td>\n",
       "    </tr>\n",
       "  </tbody>\n",
       "</table>\n",
       "</div>"
      ],
      "text/plain": [
       "   New_deaths_prediction\n",
       "0              15.769213\n",
       "1              17.792319\n",
       "2              21.422153\n",
       "3              24.231489\n",
       "4              26.876883\n",
       "5              30.032424\n",
       "6              32.892755"
      ]
     },
     "execution_count": 40,
     "metadata": {},
     "output_type": "execute_result"
    }
   ],
   "source": [
    "forecast_new_deaths"
   ]
  },
  {
   "cell_type": "markdown",
   "metadata": {},
   "source": []
  },
  {
   "cell_type": "markdown",
   "metadata": {},
   "source": [
    "## Perform ARIMA model for the variable - Total recovery"
   ]
  },
  {
   "cell_type": "code",
   "execution_count": 41,
   "metadata": {},
   "outputs": [
    {
     "name": "stdout",
     "output_type": "stream",
     "text": [
      "Performing stepwise search to minimize aic\n",
      " ARIMA(1,2,1)(0,0,0)[0]             : AIC=inf, Time=0.57 sec\n",
      " ARIMA(0,2,0)(0,0,0)[0]             : AIC=320.703, Time=0.02 sec\n",
      " ARIMA(1,2,0)(0,0,0)[0]             : AIC=323.001, Time=0.04 sec\n",
      " ARIMA(0,2,1)(0,0,0)[0]             : AIC=323.159, Time=0.02 sec\n",
      " ARIMA(0,2,0)(0,0,0)[0] intercept   : AIC=322.702, Time=0.01 sec\n",
      "\n",
      "Best model:  ARIMA(0,2,0)(0,0,0)[0]          \n",
      "Total fit time: 0.710 seconds\n"
     ]
    }
   ],
   "source": [
    "smodel_total_recovery = auto_arima(df['Total recovery'],start_p=1,start_q=1,test='adf',max_p=3,max_q=3,m=1,d=None,seasonal=True,trace=True,strat_p=0,D=0,error_action='ignore',supress_warning=True,stepwise=True)"
   ]
  },
  {
   "cell_type": "code",
   "execution_count": 42,
   "metadata": {},
   "outputs": [
    {
     "name": "stdout",
     "output_type": "stream",
     "text": [
      "                               SARIMAX Results                                \n",
      "==============================================================================\n",
      "Dep. Variable:                      y   No. Observations:                   19\n",
      "Model:               SARIMAX(0, 2, 0)   Log Likelihood                -159.352\n",
      "Date:                Wed, 15 Sep 2021   AIC                            320.703\n",
      "Time:                        03:15:49   BIC                            321.536\n",
      "Sample:                             0   HQIC                           320.786\n",
      "                                 - 19                                         \n",
      "Covariance Type:                  opg                                         \n",
      "==============================================================================\n",
      "                 coef    std err          z      P>|z|      [0.025      0.975]\n",
      "------------------------------------------------------------------------------\n",
      "sigma2       8.02e+06   1.52e+06      5.288      0.000    5.05e+06     1.1e+07\n",
      "===================================================================================\n",
      "Ljung-Box (L1) (Q):                   4.44   Jarque-Bera (JB):                13.88\n",
      "Prob(Q):                              0.04   Prob(JB):                         0.00\n",
      "Heteroskedasticity (H):               7.02   Skew:                             0.04\n",
      "Prob(H) (two-sided):                  0.03   Kurtosis:                         7.43\n",
      "===================================================================================\n",
      "\n",
      "Warnings:\n",
      "[1] Covariance matrix calculated using the outer product of gradients (complex-step).\n"
     ]
    }
   ],
   "source": [
    "print(smodel_total_recovery.summary())"
   ]
  },
  {
   "cell_type": "code",
   "execution_count": 43,
   "metadata": {},
   "outputs": [
    {
     "data": {
      "image/png": "[encoded data removed]",
      "text/plain": [
       "<Figure size 576x432 with 4 Axes>"
      ]
     },
     "metadata": {
      "needs_background": "light"
     },
     "output_type": "display_data"
    }
   ],
   "source": [
    "#Diagnostic plot for the new cases SARIMA model conducted\n",
    "smodel_total_recovery.plot_diagnostics(figsize=(8,6))\n",
    "plt.show()"
   ]
  },
  {
   "cell_type": "code",
   "execution_count": 44,
   "metadata": {},
   "outputs": [],
   "source": [
    "#Forecast the new cases for the next 7 days\n",
    "n_periods=7\n",
    "forecast_total_recovery= smodel_total_recovery.predict(n_periods=n_periods)\n",
    "forecast_total_recovery= pd.DataFrame(forecast_total_recovery,columns=['Total_recovery_prediction'])"
   ]
  },
  {
   "cell_type": "code",
   "execution_count": 45,
   "metadata": {},
   "outputs": [
    {
     "data": {
      "text/html": [
       "<div>\n",
       "<style scoped>\n",
       "    .dataframe tbody tr th:only-of-type {\n",
       "        vertical-align: middle;\n",
       "    }\n",
       "\n",
       "    .dataframe tbody tr th {\n",
       "        vertical-align: top;\n",
       "    }\n",
       "\n",
       "    .dataframe thead th {\n",
       "        text-align: right;\n",
       "    }\n",
       "</style>\n",
       "<table border=\"1\" class=\"dataframe\">\n",
       "  <thead>\n",
       "    <tr style=\"text-align: right;\">\n",
       "      <th></th>\n",
       "      <th>Total_recovery_prediction</th>\n",
       "    </tr>\n",
       "  </thead>\n",
       "  <tbody>\n",
       "    <tr>\n",
       "      <th>0</th>\n",
       "      <td>168185.0</td>\n",
       "    </tr>\n",
       "    <tr>\n",
       "      <th>1</th>\n",
       "      <td>168050.0</td>\n",
       "    </tr>\n",
       "    <tr>\n",
       "      <th>2</th>\n",
       "      <td>167915.0</td>\n",
       "    </tr>\n",
       "    <tr>\n",
       "      <th>3</th>\n",
       "      <td>167780.0</td>\n",
       "    </tr>\n",
       "    <tr>\n",
       "      <th>4</th>\n",
       "      <td>167645.0</td>\n",
       "    </tr>\n",
       "    <tr>\n",
       "      <th>5</th>\n",
       "      <td>167510.0</td>\n",
       "    </tr>\n",
       "    <tr>\n",
       "      <th>6</th>\n",
       "      <td>167375.0</td>\n",
       "    </tr>\n",
       "  </tbody>\n",
       "</table>\n",
       "</div>"
      ],
      "text/plain": [
       "   Total_recovery_prediction\n",
       "0                   168185.0\n",
       "1                   168050.0\n",
       "2                   167915.0\n",
       "3                   167780.0\n",
       "4                   167645.0\n",
       "5                   167510.0\n",
       "6                   167375.0"
      ]
     },
     "execution_count": 45,
     "metadata": {},
     "output_type": "execute_result"
    }
   ],
   "source": [
    "forecast_total_recovery"
   ]
  },
  {
   "cell_type": "code",
   "execution_count": null,
   "metadata": {},
   "outputs": [],
   "source": []
  }
 ],
 "metadata": {
  "kernelspec": {
   "display_name": "Python 3 (ipykernel)",
   "language": "python",
   "name": "python3"
  },
  "language_info": {
   "codemirror_mode": {
    "name": "ipython",
    "version": 3
   },
   "file_extension": ".py",
   "mimetype": "text/x-python",
   "name": "python",
   "nbconvert_exporter": "python",
   "pygments_lexer": "ipython3",
   "version": "3.9.6"
  }
 },
 "nbformat": 4,
 "nbformat_minor": 4
}
